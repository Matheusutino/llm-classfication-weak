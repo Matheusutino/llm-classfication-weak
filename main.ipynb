{
 "cells": [
  {
   "cell_type": "code",
   "execution_count": 3,
   "metadata": {},
   "outputs": [
    {
     "name": "stdout",
     "output_type": "stream",
     "text": [
      "Índices das instâncias com as menores pontuações de silhueta: [78 82  8 74 14]\n",
      "Valores da silhueta para essas instâncias: [0.53346975 0.59904153 0.65307568 0.71163338 0.73241091]\n",
      "Índices das instâncias com as maiores pontuações de silhueta: [ 83 151 131  71  86]\n",
      "Valores da silhueta para essas instâncias: [0.92404142 0.92408717 0.92425136 0.92470712 0.92491491]\n"
     ]
    }
   ],
   "source": [
    "from sklearn.cluster import KMeans\n",
    "from sklearn.metrics import silhouette_samples\n",
    "from sklearn.datasets import make_blobs\n",
    "import numpy as np\n",
    "\n",
    "# Gerando um conjunto de dados de exemplo\n",
    "X, _ = make_blobs(n_samples=200, centers=3, random_state=42)\n",
    "\n",
    "# Definindo parâmetros\n",
    "n_clusters = 3\n",
    "n = 5  # Número de instâncias a extrair com as menores e maiores pontuações de silhueta\n",
    "\n",
    "# Aplicando o algoritmo KMeans\n",
    "kmeans = KMeans(n_clusters=n_clusters, random_state=42)\n",
    "labels = kmeans.fit_predict(X)\n",
    "\n",
    "# Calculando a medida de silhueta para cada instância\n",
    "silhouette_scores = silhouette_samples(X, labels)\n",
    "\n",
    "# Encontrando as n instâncias com as menores e maiores pontuações de silhueta\n",
    "lowest_silhouette_indices = np.argsort(silhouette_scores)[:n]\n",
    "highest_silhouette_indices = np.argsort(silhouette_scores)[-n:]\n",
    "\n",
    "# Exibindo os resultados\n",
    "print(\"Índices das instâncias com as menores pontuações de silhueta:\", lowest_silhouette_indices)\n",
    "print(\"Valores da silhueta para essas instâncias:\", silhouette_scores[lowest_silhouette_indices])\n",
    "print(\"Índices das instâncias com as maiores pontuações de silhueta:\", highest_silhouette_indices)\n",
    "print(\"Valores da silhueta para essas instâncias:\", silhouette_scores[highest_silhouette_indices])\n"
   ]
  },
  {
   "cell_type": "code",
   "execution_count": 2,
   "metadata": {},
   "outputs": [
    {
     "data": {
      "text/html": [
       "<div>\n",
       "<style scoped>\n",
       "    .dataframe tbody tr th:only-of-type {\n",
       "        vertical-align: middle;\n",
       "    }\n",
       "\n",
       "    .dataframe tbody tr th {\n",
       "        vertical-align: top;\n",
       "    }\n",
       "\n",
       "    .dataframe thead th {\n",
       "        text-align: right;\n",
       "    }\n",
       "</style>\n",
       "<table border=\"1\" class=\"dataframe\">\n",
       "  <thead>\n",
       "    <tr style=\"text-align: right;\">\n",
       "      <th></th>\n",
       "      <th>file_name</th>\n",
       "      <th>text</th>\n",
       "      <th>class</th>\n",
       "      <th>predict_llm</th>\n",
       "    </tr>\n",
       "  </thead>\n",
       "  <tbody>\n",
       "    <tr>\n",
       "      <th>0</th>\n",
       "      <td>2823064.txt</td>\n",
       "      <td>Journal of Chromatography B Advancements in an...</td>\n",
       "      <td>Chemistry</td>\n",
       "      <td>Chemistry</td>\n",
       "    </tr>\n",
       "    <tr>\n",
       "      <th>1</th>\n",
       "      <td>2850707.txt</td>\n",
       "      <td>Archimede A powerful calculator for Linux. Alg...</td>\n",
       "      <td>Math</td>\n",
       "      <td>Science</td>\n",
       "    </tr>\n",
       "    <tr>\n",
       "      <th>2</th>\n",
       "      <td>2784805.txt</td>\n",
       "      <td>Mytilus edulis: Blue Mussel Information from t...</td>\n",
       "      <td>Agriculture</td>\n",
       "      <td>Instruments</td>\n",
       "    </tr>\n",
       "    <tr>\n",
       "      <th>3</th>\n",
       "      <td>Sciences_2829710.txt</td>\n",
       "      <td>Condor Consulting Inc. Provides general geophy...</td>\n",
       "      <td>Earth</td>\n",
       "      <td>Environment</td>\n",
       "    </tr>\n",
       "    <tr>\n",
       "      <th>4</th>\n",
       "      <td>Sciences_2866064.txt</td>\n",
       "      <td>Administrative Divisions of Countries (\"Statoi...</td>\n",
       "      <td>Social</td>\n",
       "      <td>Instruments</td>\n",
       "    </tr>\n",
       "    <tr>\n",
       "      <th>...</th>\n",
       "      <td>...</td>\n",
       "      <td>...</td>\n",
       "      <td>...</td>\n",
       "      <td>...</td>\n",
       "    </tr>\n",
       "    <tr>\n",
       "      <th>995</th>\n",
       "      <td>2842561.txt</td>\n",
       "      <td>TÃÂ¼bingen, Eberhard Karl University Faculty ...</td>\n",
       "      <td>Math</td>\n",
       "      <td>Math</td>\n",
       "    </tr>\n",
       "    <tr>\n",
       "      <th>996</th>\n",
       "      <td>2844374.txt</td>\n",
       "      <td>Forensic Mathematics DNA identification, biost...</td>\n",
       "      <td>Math</td>\n",
       "      <td>Science</td>\n",
       "    </tr>\n",
       "    <tr>\n",
       "      <th>997</th>\n",
       "      <td>2785492.txt</td>\n",
       "      <td>National Sunflower Association : Sunflower Oil...</td>\n",
       "      <td>Agriculture</td>\n",
       "      <td>Technology</td>\n",
       "    </tr>\n",
       "    <tr>\n",
       "      <th>998</th>\n",
       "      <td>Sciences_2863142.txt</td>\n",
       "      <td>Clemson University, Clemson Department of Spee...</td>\n",
       "      <td>Social</td>\n",
       "      <td>Instruments</td>\n",
       "    </tr>\n",
       "    <tr>\n",
       "      <th>999</th>\n",
       "      <td>Sciences_2860620.txt</td>\n",
       "      <td>Dialogos Journal of Greek archaeology, history...</td>\n",
       "      <td>Social</td>\n",
       "      <td>Environment</td>\n",
       "    </tr>\n",
       "  </tbody>\n",
       "</table>\n",
       "<p>1000 rows × 4 columns</p>\n",
       "</div>"
      ],
      "text/plain": [
       "                file_name                                               text  \\\n",
       "0             2823064.txt  Journal of Chromatography B Advancements in an...   \n",
       "1             2850707.txt  Archimede A powerful calculator for Linux. Alg...   \n",
       "2             2784805.txt  Mytilus edulis: Blue Mussel Information from t...   \n",
       "3    Sciences_2829710.txt  Condor Consulting Inc. Provides general geophy...   \n",
       "4    Sciences_2866064.txt  Administrative Divisions of Countries (\"Statoi...   \n",
       "..                    ...                                                ...   \n",
       "995           2842561.txt  TÃÂ¼bingen, Eberhard Karl University Faculty ...   \n",
       "996           2844374.txt  Forensic Mathematics DNA identification, biost...   \n",
       "997           2785492.txt  National Sunflower Association : Sunflower Oil...   \n",
       "998  Sciences_2863142.txt  Clemson University, Clemson Department of Spee...   \n",
       "999  Sciences_2860620.txt  Dialogos Journal of Greek archaeology, history...   \n",
       "\n",
       "           class  predict_llm  \n",
       "0      Chemistry    Chemistry  \n",
       "1           Math      Science  \n",
       "2    Agriculture  Instruments  \n",
       "3          Earth  Environment  \n",
       "4         Social  Instruments  \n",
       "..           ...          ...  \n",
       "995         Math         Math  \n",
       "996         Math      Science  \n",
       "997  Agriculture   Technology  \n",
       "998       Social  Instruments  \n",
       "999       Social  Environment  \n",
       "\n",
       "[1000 rows x 4 columns]"
      ]
     },
     "execution_count": 2,
     "metadata": {},
     "output_type": "execute_result"
    }
   ],
   "source": [
    "import pandas as pd\n",
    "\n",
    "df = pd.read_csv(\"datasets/llm_predict/Llama-3.2-3B-Instruct-Q8_0.gguf/Dmoz-Science.csv\")\n",
    "df"
   ]
  },
  {
   "cell_type": "code",
   "execution_count": 3,
   "metadata": {},
   "outputs": [
    {
     "data": {
      "text/plain": [
       "array(['Chemistry', 'Math', 'Agriculture', 'Earth', 'Social', 'Biology',\n",
       "       'Astronomy', 'Environment', 'Physics', 'Technology', 'Instruments',\n",
       "       'Science'], dtype=object)"
      ]
     },
     "execution_count": 3,
     "metadata": {},
     "output_type": "execute_result"
    }
   ],
   "source": [
    "df['class'].unique()"
   ]
  },
  {
   "cell_type": "code",
   "execution_count": 4,
   "metadata": {},
   "outputs": [
    {
     "data": {
      "text/plain": [
       "array(['Chemistry', 'Science', 'Instruments', 'Environment',\n",
       "       'Agriculture', 'Technology', 'Math', 'Biology', 'Social',\n",
       "       'Physics', 'Astronomy', 'Earth'], dtype=object)"
      ]
     },
     "execution_count": 4,
     "metadata": {},
     "output_type": "execute_result"
    }
   ],
   "source": [
    "df['predict_llm'].unique()"
   ]
  },
  {
   "cell_type": "code",
   "execution_count": 26,
   "metadata": {},
   "outputs": [],
   "source": [
    "df['predict_llm'] = df['predict_llm'].str.replace('\\n', '', regex=False)"
   ]
  },
  {
   "cell_type": "code",
   "execution_count": 5,
   "metadata": {},
   "outputs": [
    {
     "name": "stdout",
     "output_type": "stream",
     "text": [
      "{'Accuracy': 0.247, 'Precision': np.float64(0.4905517709477435), 'Recall': np.float64(0.247), 'F1 Score': np.float64(0.24176780835096798)}\n"
     ]
    }
   ],
   "source": [
    "from sklearn.metrics import accuracy_score, precision_score, recall_score, f1_score\n",
    "\n",
    "def evaluate_predictions(df):\n",
    "    # Extrai as colunas 'class' e 'predict_llm' do DataFrame\n",
    "    y_true = df['class']\n",
    "    y_pred = df['predict_llm']\n",
    "    \n",
    "    # Calcula as métricas\n",
    "    accuracy = accuracy_score(y_true, y_pred)\n",
    "    precision = precision_score(y_true, y_pred, average='weighted')\n",
    "    recall = recall_score(y_true, y_pred, average='weighted')\n",
    "    f1 = f1_score(y_true, y_pred, average='weighted')\n",
    "    \n",
    "    # Exibe as métricas\n",
    "    metrics = {\n",
    "        'Accuracy': accuracy,\n",
    "        'Precision': precision,\n",
    "        'Recall': recall,\n",
    "        'F1 Score': f1\n",
    "    }\n",
    "    \n",
    "    return metrics\n",
    "\n",
    "# Exemplo de uso com o DataFrame df\n",
    "# df = pd.DataFrame({'class': [...], 'predict_llm': [...]})\n",
    "metrics = evaluate_predictions(df)\n",
    "print(metrics)\n"
   ]
  }
 ],
 "metadata": {
  "kernelspec": {
   "display_name": "weak-llm",
   "language": "python",
   "name": "python3"
  },
  "language_info": {
   "codemirror_mode": {
    "name": "ipython",
    "version": 3
   },
   "file_extension": ".py",
   "mimetype": "text/x-python",
   "name": "python",
   "nbconvert_exporter": "python",
   "pygments_lexer": "ipython3",
   "version": "3.12.3"
  }
 },
 "nbformat": 4,
 "nbformat_minor": 2
}
